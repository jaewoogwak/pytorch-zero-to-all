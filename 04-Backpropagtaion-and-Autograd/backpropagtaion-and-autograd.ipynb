{
 "cells": [
  {
   "cell_type": "code",
   "execution_count": 10,
   "metadata": {},
   "outputs": [],
   "source": [
    "import torch\n",
    "from torch.autograd import Variable\n",
    "import matplotlib.pyplot as plt\n"
   ]
  },
  {
   "cell_type": "code",
   "execution_count": 11,
   "metadata": {},
   "outputs": [],
   "source": [
    "x_data = [1.0, 2.0, 3.0]\n",
    "y_data = [2.0, 4.0, 6.0]\n",
    "\n",
    "# It's legacy, Now we can backpropagtion just use torch.Tensor.\n",
    "# same this, w = torch.Tensor([1.0])\n",
    "# w = Variable(torch.Tensor([1.0]), requires_grad=True) # Any random value\n",
    "w = torch.tensor([1.0], requires_grad = True)"
   ]
  },
  {
   "cell_type": "code",
   "execution_count": 12,
   "metadata": {},
   "outputs": [],
   "source": [
    "# our model forward pass\n",
    "def forward(x):\n",
    "    return x * w"
   ]
  },
  {
   "cell_type": "code",
   "execution_count": 13,
   "metadata": {},
   "outputs": [],
   "source": [
    "# Loss function\n",
    "def loss(y_pred, y_val):\n",
    "    return (y_pred - y_val) ** 2"
   ]
  },
  {
   "cell_type": "code",
   "execution_count": 14,
   "metadata": {},
   "outputs": [
    {
     "name": "stdout",
     "output_type": "stream",
     "text": [
      "Prediction (before training) 4 4.0\n"
     ]
    }
   ],
   "source": [
    "# Before training\n",
    "print(\"Prediction (before training)\", 4, forward(4).item())"
   ]
  },
  {
   "cell_type": "markdown",
   "metadata": {},
   "source": [
    "### `torch.tensor.item`\n",
    "텐서 안의 값을 가져옴.\n",
    "\n",
    "```python\n",
    ">>> x = torch.tensor([1.0])\n",
    ">>> x.item()\n",
    "1.0\n",
    "```"
   ]
  },
  {
   "cell_type": "code",
   "execution_count": null,
   "metadata": {},
   "outputs": [],
   "source": []
  },
  {
   "cell_type": "code",
   "execution_count": 30,
   "metadata": {},
   "outputs": [
    {
     "name": "stdout",
     "output_type": "stream",
     "text": [
      "\t grad:  1.0 2.0 -0.004759550094604492\n",
      "\t grad:  2.0 4.0 -0.018657684326171875\n",
      "\t grad:  3.0 6.0 -0.038620948791503906\n",
      "Epoch: 0 | Loss: 4.143271507928148e-05\n",
      "\t grad:  1.0 2.0 -0.003518819808959961\n",
      "\t grad:  2.0 4.0 -0.0137939453125\n",
      "\t grad:  3.0 6.0 -0.028553009033203125\n",
      "Epoch: 1 | Loss: 2.264650902361609e-05\n",
      "\t grad:  1.0 2.0 -0.00260162353515625\n",
      "\t grad:  2.0 4.0 -0.010198593139648438\n",
      "\t grad:  3.0 6.0 -0.021108627319335938\n",
      "Epoch: 2 | Loss: 1.2377059647405986e-05\n",
      "\t grad:  1.0 2.0 -0.0019233226776123047\n",
      "\t grad:  2.0 4.0 -0.0075397491455078125\n",
      "\t grad:  3.0 6.0 -0.0156097412109375\n",
      "Epoch: 3 | Loss: 6.768445018678904e-06\n",
      "\t grad:  1.0 2.0 -0.0014221668243408203\n",
      "\t grad:  2.0 4.0 -0.0055751800537109375\n",
      "\t grad:  3.0 6.0 -0.011541366577148438\n",
      "Epoch: 4 | Loss: 3.7000872907810844e-06\n",
      "\t grad:  1.0 2.0 -0.0010514259338378906\n",
      "\t grad:  2.0 4.0 -0.0041217803955078125\n",
      "\t grad:  3.0 6.0 -0.008531570434570312\n",
      "Epoch: 5 | Loss: 2.021880391112063e-06\n",
      "\t grad:  1.0 2.0 -0.0007772445678710938\n",
      "\t grad:  2.0 4.0 -0.0030469894409179688\n",
      "\t grad:  3.0 6.0 -0.006305694580078125\n",
      "Epoch: 6 | Loss: 1.1044940038118511e-06\n",
      "\t grad:  1.0 2.0 -0.0005745887756347656\n",
      "\t grad:  2.0 4.0 -0.0022525787353515625\n",
      "\t grad:  3.0 6.0 -0.0046634674072265625\n",
      "Epoch: 7 | Loss: 6.041091182851233e-07\n",
      "\t grad:  1.0 2.0 -0.0004248619079589844\n",
      "\t grad:  2.0 4.0 -0.0016651153564453125\n",
      "\t grad:  3.0 6.0 -0.003444671630859375\n",
      "Epoch: 8 | Loss: 3.296045179013163e-07\n",
      "\t grad:  1.0 2.0 -0.0003139972686767578\n",
      "\t grad:  2.0 4.0 -0.0012311935424804688\n",
      "\t grad:  3.0 6.0 -0.0025491714477539062\n",
      "Epoch: 9 | Loss: 1.805076408345485e-07\n"
     ]
    }
   ],
   "source": [
    "w_list = []\n",
    "mse_list = []\n",
    "\n",
    "# Training loop\n",
    "for epoch in range(10):\n",
    "    l_sum = 0\n",
    "    for x_val, y_val in zip(x_data, y_data):\n",
    "        y_pred = forward(x_val) # 1) Forward pss\n",
    "        l = loss(y_pred, y_val) # 2) Compute loss\n",
    "        l_sum += l.item()\n",
    "        l.backward() # 3) Backpropgation to update weights (compute gradient)\n",
    "        print(\"\\t grad: \", x_val, y_val, w.grad.item())\n",
    "        w.data = w.data - 0.01 * w.grad.item()\n",
    "        \n",
    "        \n",
    "        # Manually zero the gradients after updating weights\n",
    "        w.grad.data.zero_()\n",
    "        \n",
    "    w_list.append(w.data.item())\n",
    "    mse_list.append(l_sum / 3)\n",
    "        \n",
    "    print(f\"Epoch: {epoch} | Loss: {l.item()}\")\n",
    "    \n"
   ]
  },
  {
   "cell_type": "code",
   "execution_count": 31,
   "metadata": {},
   "outputs": [
    {
     "name": "stdout",
     "output_type": "stream",
     "text": [
      "Prediction (after training) 4 7.99953556060791\n"
     ]
    }
   ],
   "source": [
    "# After trainig\n",
    "print(\"Prediction (after training)\", 4, forward(4).item())"
   ]
  },
  {
   "cell_type": "code",
   "execution_count": 36,
   "metadata": {},
   "outputs": [
    {
     "data": {
      "image/png": "[encoded data removed]",
      "text/plain": [
       "<Figure size 640x480 with 1 Axes>"
      ]
     },
     "metadata": {},
     "output_type": "display_data"
    }
   ],
   "source": [
    "# Practice: Draw graph\n",
    "plt.plot(w_list, mse_list)\n",
    "plt.ylabel('Loss')\n",
    "plt.xlabel('w')\n",
    "plt.show()"
   ]
  },
  {
   "cell_type": "code",
   "execution_count": null,
   "metadata": {},
   "outputs": [],
   "source": []
  }
 ],
 "metadata": {
  "kernelspec": {
   "display_name": "base",
   "language": "python",
   "name": "python3"
  },
  "language_info": {
   "codemirror_mode": {
    "name": "ipython",
    "version": 3
   },
   "file_extension": ".py",
   "mimetype": "text/x-python",
   "name": "python",
   "nbconvert_exporter": "python",
   "pygments_lexer": "ipython3",
   "version": "3.11.4"
  }
 },
 "nbformat": 4,
 "nbformat_minor": 2
}
